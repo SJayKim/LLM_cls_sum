{
 "cells": [
  {
   "cell_type": "code",
   "execution_count": 1,
   "metadata": {},
   "outputs": [],
   "source": [
    "a = [\n",
    "            \"정치\", \"선거\", \"정부\", \"입법\", \"외교\", \"정당\", \"대통령직\", \"국회\", \"정책\", \"국가 안보\",\n",
    "            \"투표\", \"경제\", \"주식 시장\", \"경제 상황\", \"금융\", \"세금\", \"무역\", \"투자\", \"부동산\", \"예산\",\n",
    "            \"인플레이션\", \"실업\", \"사회\", \"교육\", \"범죄\", \"복지\", \"건강\", \"노동\", \"이민\", \"인권\",\n",
    "            \"환경\", \"교통\", \"사건사고\", \"문화\", \"예술\", \"음악\", \"영화\", \"문학\", \"전시회\", \"축제\",\n",
    "            \"시각 예술\", \"극장\", \"전통\", \"패션\", \"과학\", \"기술\", \"연구\", \"우주\", \"환경 과학\", \"의학\",\n",
    "            \"발명품\", \"데이터\", \"로봇 공학\", \"인공 지능\", \"에너지\", \"국제 문제\", \"외교 정책\", \"글로벌 관계\", \"세계 경제\", \"국제법\",\n",
    "            \"해외 이벤트\", \"글로벌 이슈\", \"유엔\", \"국제 컨퍼런스\", \"해외 문화\", \"국경\", \"스포츠\", \"올림픽\", \"축구\", \"야구\",\n",
    "            \"농구\", \"테니스\", \"골프\", \"마라톤\", \"수영\", \"피트니스\", \"모터스포츠\", \"인터넷\", \"소프트웨어\", \"하드웨어\",\n",
    "            \"스마트폰\", \"게임\", \"사이버 보안\", \"앱\", \"클라우드 컴퓨팅\", \"빅 데이터\", \"가상 현실\", \"영양\", \"질병\", \"의료\",\n",
    "            \"운동\", \"심리학\", \"웰니스\", \"건강 보험\", \"예방\", \"치료\", \"건강 식품\", \"여행\", \"여행 팁\", \"호텔\"\n",
    "        ]"
   ]
  },
  {
   "cell_type": "code",
   "execution_count": 3,
   "metadata": {},
   "outputs": [],
   "source": [
    "a = [\"Politics\", \"Economics\", \"Social Issue\", \"Culture & Arts\", \"Natural Science\", \"International Affairs\", \"Technology & Internet\", \"Health & Wellness\", \"Travel\"]"
   ]
  },
  {
   "cell_type": "code",
   "execution_count": 5,
   "metadata": {},
   "outputs": [],
   "source": [
    "c = {\n",
    "  \"Politics\": [\n",
    "    \"Politics\", \"Elections\", \"Government\", \"Legislation\", \"Diplomacy\", \"Political Parties\", \"Presidency\", \"Parliament\", \"Policies\", \"National Security\", \"Voting\"\n",
    "  ],\n",
    "  \"Economics\": [\n",
    "    \"Economy\", \"Stock Market\", \"Economic Conditions\", \"Finance\", \"Taxes\", \"Trade\", \"Investments\", \"Real Estate\", \"Budget\", \"Inflation\", \"Unemployment\"\n",
    "  ],\n",
    "  \"Social Issue\": [\n",
    "    \"Society\", \"Education\", \"Crime\", \"Welfare\", \"Health\", \"Labor\", \"Immigration\", \"Human Rights\", \"Environment\", \"Transportation\", \"Incidents\"\n",
    "  ],\n",
    "  \"Culture & Arts\": [\n",
    "    \"Culture\", \"Arts\", \"Music\", \"Movies\", \"Literature\", \"Exhibitions\", \"Festivals\", \"Visual Arts\", \"Theater\", \"Tradition\", \"Fashion\"\n",
    "  ],\n",
    "  \"Natural Science\": [\n",
    "    \"Science\", \"Technology\", \"Research\", \"Space\", \"Environmental Science\", \"Medicine\", \"Inventions\", \"Data\", \"Robotics\", \"Artificial Intelligence\", \"Energy\"\n",
    "  ],\n",
    "  \"International Affairs\": [\n",
    "    \"International Issues\", \"Diplomatic Policies\", \"Global Relations\", \"World Economy\", \"International Law\", \"Overseas Events\", \"Global Issues\", \"United Nations\", \"International Conferences\", \"Foreign Cultures\", \"Borders\"\n",
    "  ],\n",
    "  \"Sports\": [\n",
    "    \"Sports\", \"Olympics\", \"Soccer\", \"Baseball\", \"Basketball\", \"Tennis\", \"Golf\", \"Marathons\", \"Swimming\", \"Fitness\", \"Motorsports\"\n",
    "  ],\n",
    "  \"Technology & Internet\": [\n",
    "    \"Internet\", \"Software\", \"Hardware\", \"Smartphones\", \"Games\", \"Cybersecurity\", \"Apps\", \"Cloud Computing\", \"Big Data\", \"Virtual Reality\"\n",
    "  ],\n",
    "  \"Health & Wellness\": [\n",
    "    \"Nutrition\", \"Diseases\", \"Medicine\", \"Exercise\", \"Psychology\", \"Wellness\", \"Health Insurance\", \"Prevention\", \"Treatment\", \"Healthy Foods\"\n",
    "  ],\n",
    "  \"Travel\": [\n",
    "    \"Travel\", \"Travel Tips\", \"Hotels\"\n",
    "  ]\n",
    "}\n"
   ]
  },
  {
   "cell_type": "code",
   "execution_count": 9,
   "metadata": {},
   "outputs": [],
   "source": [
    "c = {\n",
    "  \"정치\": [\n",
    "    \"정치\", \"선거\", \"정부\", \"입법\", \"외교\", \"정당\", \"대통령직\", \"국회\", \"정책\", \"국가 안보\", \"투표\"\n",
    "  ],\n",
    "  \"경제\": [\n",
    "    \"경제\", \"주식 시장\", \"경제 상황\", \"금융\", \"세금\", \"무역\", \"투자\", \"부동산\", \"예산\", \"인플레이션\", \"실업\"\n",
    "  ],\n",
    "  \"사회 문제\": [\n",
    "    \"사회\", \"교육\", \"범죄\", \"복지\", \"건강\", \"노동\", \"이민\", \"인권\", \"환경\", \"교통\", \"사건사고\"\n",
    "  ],\n",
    "  \"문화 및 예술\": [\n",
    "    \"문화\", \"예술\", \"음악\", \"영화\", \"문학\", \"전시회\", \"축제\", \"시각 예술\", \"극장\", \"전통\", \"패션\"\n",
    "  ],\n",
    "  \"자연 과학\": [\n",
    "    \"과학\", \"기술\", \"연구\", \"우주\", \"환경 과학\", \"의학\", \"발명품\", \"데이터\", \"로봇 공학\", \"인공 지능\", \"에너지\"\n",
    "  ],\n",
    "  \"국제 문제\": [\n",
    "    \"국제 문제\", \"외교 정책\", \"글로벌 관계\", \"세계 경제\", \"국제법\", \"해외 이벤트\", \"글로벌 이슈\", \"유엔\", \"국제 컨퍼런스\", \"해외 문화\", \"국경\"\n",
    "  ],\n",
    "  \"스포츠\": [\n",
    "    \"스포츠\", \"올림픽\", \"축구\", \"야구\", \"농구\", \"테니스\", \"골프\", \"마라톤\", \"수영\", \"피트니스\", \"모터스포츠\"\n",
    "  ],\n",
    "  \"기술 및 인터넷\": [\n",
    "    \"인터넷\", \"소프트웨어\", \"하드웨어\", \"스마트폰\", \"게임\", \"사이버 보안\", \"앱\", \"클라우드 컴퓨팅\", \"빅 데이터\", \"가상 현실\"\n",
    "  ],\n",
    "  \"건강 및 웰빙\": [\n",
    "    \"영양\", \"질병\", \"의료\", \"운동\", \"심리학\", \"웰니스\", \"건강 보험\", \"예방\", \"치료\", \"건강 식품\"\n",
    "  ],\n",
    "  \"여행\": [\n",
    "    \"여행\", \"여행 팁\", \"호텔\"\n",
    "  ]\n",
    "}\n"
   ]
  },
  {
   "cell_type": "code",
   "execution_count": 10,
   "metadata": {},
   "outputs": [
    {
     "name": "stdout",
     "output_type": "stream",
     "text": [
      "11\n",
      "11\n",
      "11\n",
      "11\n",
      "11\n",
      "11\n",
      "11\n",
      "10\n",
      "10\n",
      "3\n"
     ]
    }
   ],
   "source": [
    "count = 0\n",
    "for key, value in c.items():\n",
    "    print(len(value))\n",
    "    count += len(value)"
   ]
  },
  {
   "cell_type": "code",
   "execution_count": 11,
   "metadata": {},
   "outputs": [
    {
     "name": "stdout",
     "output_type": "stream",
     "text": [
      "100\n"
     ]
    }
   ],
   "source": [
    "print(count)"
   ]
  },
  {
   "cell_type": "code",
   "execution_count": 19,
   "metadata": {},
   "outputs": [],
   "source": [
    "data = pd.read_csv(\"C:/Users/cyon1/Desktop/LLAMA/Articles.csv\", encoding='latin1')"
   ]
  },
  {
   "cell_type": "code",
   "execution_count": 20,
   "metadata": {},
   "outputs": [
    {
     "data": {
      "text/html": [
       "<div>\n",
       "<style scoped>\n",
       "    .dataframe tbody tr th:only-of-type {\n",
       "        vertical-align: middle;\n",
       "    }\n",
       "\n",
       "    .dataframe tbody tr th {\n",
       "        vertical-align: top;\n",
       "    }\n",
       "\n",
       "    .dataframe thead th {\n",
       "        text-align: right;\n",
       "    }\n",
       "</style>\n",
       "<table border=\"1\" class=\"dataframe\">\n",
       "  <thead>\n",
       "    <tr style=\"text-align: right;\">\n",
       "      <th></th>\n",
       "      <th>Article</th>\n",
       "      <th>Date</th>\n",
       "      <th>Heading</th>\n",
       "      <th>NewsType</th>\n",
       "    </tr>\n",
       "  </thead>\n",
       "  <tbody>\n",
       "    <tr>\n",
       "      <th>0</th>\n",
       "      <td>KARACHI: The Sindh government has decided to b...</td>\n",
       "      <td>1/1/2015</td>\n",
       "      <td>sindh govt decides to cut public transport far...</td>\n",
       "      <td>business</td>\n",
       "    </tr>\n",
       "    <tr>\n",
       "      <th>1</th>\n",
       "      <td>HONG KONG: Asian markets started 2015 on an up...</td>\n",
       "      <td>1/2/2015</td>\n",
       "      <td>asia stocks up in new year trad</td>\n",
       "      <td>business</td>\n",
       "    </tr>\n",
       "    <tr>\n",
       "      <th>2</th>\n",
       "      <td>HONG KONG:  Hong Kong shares opened 0.66 perce...</td>\n",
       "      <td>1/5/2015</td>\n",
       "      <td>hong kong stocks open 0.66 percent lower</td>\n",
       "      <td>business</td>\n",
       "    </tr>\n",
       "    <tr>\n",
       "      <th>3</th>\n",
       "      <td>HONG KONG: Asian markets tumbled Tuesday follo...</td>\n",
       "      <td>1/6/2015</td>\n",
       "      <td>asian stocks sink euro near nine year</td>\n",
       "      <td>business</td>\n",
       "    </tr>\n",
       "    <tr>\n",
       "      <th>4</th>\n",
       "      <td>NEW YORK: US oil prices Monday slipped below $...</td>\n",
       "      <td>1/6/2015</td>\n",
       "      <td>us oil prices slip below 50 a barr</td>\n",
       "      <td>business</td>\n",
       "    </tr>\n",
       "    <tr>\n",
       "      <th>...</th>\n",
       "      <td>...</td>\n",
       "      <td>...</td>\n",
       "      <td>...</td>\n",
       "      <td>...</td>\n",
       "    </tr>\n",
       "    <tr>\n",
       "      <th>2687</th>\n",
       "      <td>strong&gt;DUBAI: Dubai International Airport and ...</td>\n",
       "      <td>3/25/2017</td>\n",
       "      <td>Laptop ban hits Dubai for 11m weekend traveller</td>\n",
       "      <td>business</td>\n",
       "    </tr>\n",
       "    <tr>\n",
       "      <th>2688</th>\n",
       "      <td>strong&gt;BEIJING: Former Prime Minister, Shaukat...</td>\n",
       "      <td>3/26/2017</td>\n",
       "      <td>Pak China relations not against any third coun...</td>\n",
       "      <td>business</td>\n",
       "    </tr>\n",
       "    <tr>\n",
       "      <th>2689</th>\n",
       "      <td>strong&gt;WASHINGTON: Uber has grounded its fleet...</td>\n",
       "      <td>3/26/2017</td>\n",
       "      <td>Uber grounds self driving cars after accid</td>\n",
       "      <td>business</td>\n",
       "    </tr>\n",
       "    <tr>\n",
       "      <th>2690</th>\n",
       "      <td>strong&gt;BEIJING: The New Development Bank plans...</td>\n",
       "      <td>3/27/2017</td>\n",
       "      <td>New Development Bank plans joint investments i...</td>\n",
       "      <td>business</td>\n",
       "    </tr>\n",
       "    <tr>\n",
       "      <th>2691</th>\n",
       "      <td>strong&gt;KARACHI: Karachi-based technology incub...</td>\n",
       "      <td>3/27/2017</td>\n",
       "      <td>Google powered Startup Weekend energizing prou...</td>\n",
       "      <td>business</td>\n",
       "    </tr>\n",
       "  </tbody>\n",
       "</table>\n",
       "<p>2692 rows × 4 columns</p>\n",
       "</div>"
      ],
      "text/plain": [
       "                                                Article       Date  \\\n",
       "0     KARACHI: The Sindh government has decided to b...   1/1/2015   \n",
       "1     HONG KONG: Asian markets started 2015 on an up...   1/2/2015   \n",
       "2     HONG KONG:  Hong Kong shares opened 0.66 perce...   1/5/2015   \n",
       "3     HONG KONG: Asian markets tumbled Tuesday follo...   1/6/2015   \n",
       "4     NEW YORK: US oil prices Monday slipped below $...   1/6/2015   \n",
       "...                                                 ...        ...   \n",
       "2687  strong>DUBAI: Dubai International Airport and ...  3/25/2017   \n",
       "2688  strong>BEIJING: Former Prime Minister, Shaukat...  3/26/2017   \n",
       "2689  strong>WASHINGTON: Uber has grounded its fleet...  3/26/2017   \n",
       "2690  strong>BEIJING: The New Development Bank plans...  3/27/2017   \n",
       "2691  strong>KARACHI: Karachi-based technology incub...  3/27/2017   \n",
       "\n",
       "                                                Heading  NewsType  \n",
       "0     sindh govt decides to cut public transport far...  business  \n",
       "1                       asia stocks up in new year trad  business  \n",
       "2              hong kong stocks open 0.66 percent lower  business  \n",
       "3                asian stocks sink euro near nine year   business  \n",
       "4                    us oil prices slip below 50 a barr  business  \n",
       "...                                                 ...       ...  \n",
       "2687    Laptop ban hits Dubai for 11m weekend traveller  business  \n",
       "2688  Pak China relations not against any third coun...  business  \n",
       "2689         Uber grounds self driving cars after accid  business  \n",
       "2690  New Development Bank plans joint investments i...  business  \n",
       "2691  Google powered Startup Weekend energizing prou...  business  \n",
       "\n",
       "[2692 rows x 4 columns]"
      ]
     },
     "execution_count": 20,
     "metadata": {},
     "output_type": "execute_result"
    }
   ],
   "source": [
    "data"
   ]
  },
  {
   "cell_type": "code",
   "execution_count": 30,
   "metadata": {},
   "outputs": [],
   "source": [
    "desc = data[\"Article\"][1]"
   ]
  },
  {
   "cell_type": "code",
   "execution_count": null,
   "metadata": {},
   "outputs": [
    {
     "name": "stdout",
     "output_type": "stream",
     "text": [
      "HONG KONG: Asian markets started 2015 on an upswing in limited trading on Friday, with mainland Chinese stocks surging in Hong Kong on speculation Beijing may ease monetary policy to boost slowing growth.Hong Kong rose 1.07 percent, closing 252.78 points higher at 23857.82.Seoul closed up 0.57 percent, rising 10.85 points to 1,926.44, while Sydney gained 0.46 percent, or 24.89 points, to close at 5,435.9.Singapore edged up 0.19 percent, gaining 6.39 points to 3,371.54.Markets in mainland China, Japan, Taiwan, New Zealand, the Philippines, and Thailand remained closed for holidays.With mainland bourses shut until January 5, shares in Chinese developers and financial companies surged in Hong Kong, stoked by hopes that Beijing could ease monetary policy to support lagging growth in the world´s second-largest economy.China Vanke, the country´s biggest developer by sales, leapt 10.8 percent and the People´s Insurance Company (Group) of China Ltd. was up 5.51 percent in afternoon trading.Train-builders CSR Corp. and China CNR Corp. soared -- CSR by 16.5 percent and China CNR by 16.0 percent -- extending gains on December 31 after they announced a merger agreement.China´s manufacturing growth dropped in December to its lowest level of 2014, an official survey showed Thursday, as the sector struggles with weak domestic demand.China´s official Purchasing Managers´ Index (PMI) released by the National Bureau of Statistics (NBS) came in at 50.1 last month, down from 50.3 recorded in November.The index, which tracks activity in factories and workshops, is considered a key indicator of the health of China´s economy, a major driver of global growth. A figure above 50 signals expansion, while anything below indicates contraction.\"Growth momentum is still insufficient,\" NBS said in a statement. - Investors eye US factory data -On forex markets the dollar extended gains ahead of the release of American factory data due later on Friday and following a steady stream of good news from the world´s biggest economy.The dollar bought 120.44 yen, compared to 119.44 yen in final 2014 trading on Wednesday.Wall Street toasted a banner year in 2014, with US equity markets finishing near all-time highs.The euro meanwhile slipped amid growing expectations that the European Central Bank, which meets on January 22, will start buying sovereign bonds. The single currency bought $1.2061 compared to $1.2160 in pre-holiday trade.The ECB has already used several tools to push inflation in member nations back up to the 2.0 percent annual rate it regards as healthy, including asset purchases and making cheap loans available to banks.It is also examining the possibility of large-scale purchases of sovereign debt -- so-called quantitative easing (QE) -- to help jump-start the European Union´s moribund economy.Oil prices rose on Friday, with US benchmark West Texas Intermediate for February delivery rising 44 cents to $54.07 and Brent crude for February gaining 18 cents to $57.51.\"The gains in Asian trading are likely because of the positive US crude stockpiles data released on Wednesday,\" Daniel Ang, investment analyst at Phillip Futures in Singapore, told AFP.US crude reserves fell by 1.8 million barrels in the week to December 26, the US Energy Information Administration said in its last petroleum report for 2014 released on Wednesday, boosting prices that lost nearly half their value in the second half of the year.There is growing speculation that the slide in global oil prices -- the biggest since the financial crisis in 2008 -- may have been excessive.\"If we do see some supply-side responses, or even if they´re anticipated over the course of this first quarter of the year, we might find that oil has in fact bottomed,\" Michael McCarthy, a chief strategist at CMC Markets in Sydney, told Bloomberg.Gold was at $1,182.36 an ounce, compared with $1,199.00 in end-of-year trading on Wednesday.In other markets:-- Jakarta ended up 0.30 percent, or 15.82 points, at 5,242.77.Coal firm Indo Tambangraya Megah gained 3.41 percent to 15,900 rupiah, while miner Aneka Tambang slipped 1.88 percent to 1,045 rupiah.-- Malaysia´s main stock index shed 0.48 percent, or 8.48 points, to close at 1,752.77.Malayan Banking lost 0.55 percent to 9.12 ringgit, Public Bank slipped 0.44 percent to 18.22 while Top Globe added 1.77 percent 4.60 ringgit.-- Singapore rose 0.16 percent, or 5.44 points, to 3,370.59.Agribusiness company Wilmar International gained 0.93 percent to Sg$3.27 while real estate developer Capitaland dipped 0.30 percent to Sg$3.30.-- Mumbai gained 1.38 percent, or 380.36 points, to end at 27,887.90.Housing Development Finance Corp rose 4.30 percent to 1,171.80 rupees, while Mahindra & Mahindra fell 0.92 percent to 1,224.80 rupees. (AFP)                        \n",
      "\n",
      "\n",
      "\n",
      "\n",
      "\n",
      "\n",
      "\n",
      "\n",
      "\n",
      "\n",
      "\n"
     ]
    }
   ],
   "source": []
  },
  {
   "cell_type": "code",
   "execution_count": null,
   "metadata": {},
   "outputs": [],
   "source": []
  }
 ],
 "metadata": {
  "kernelspec": {
   "display_name": "Python 3 (ipykernel)",
   "language": "python",
   "name": "python3"
  },
  "language_info": {
   "codemirror_mode": {
    "name": "ipython",
    "version": 3
   },
   "file_extension": ".py",
   "mimetype": "text/x-python",
   "name": "python",
   "nbconvert_exporter": "python",
   "pygments_lexer": "ipython3",
   "version": "3.10.12"
  }
 },
 "nbformat": 4,
 "nbformat_minor": 2
}
